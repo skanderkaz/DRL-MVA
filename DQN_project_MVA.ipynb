{
  "nbformat": 4,
  "nbformat_minor": 0,
  "metadata": {
    "kernelspec": {
      "name": "python3",
      "display_name": "Python 3"
    },
    "language_info": {
      "codemirror_mode": {
        "name": "ipython",
        "version": 3
      },
      "file_extension": ".py",
      "mimetype": "text/x-python",
      "name": "python",
      "nbconvert_exporter": "python",
      "pygments_lexer": "ipython3",
      "version": "3.6.4"
    },
    "colab": {
      "name": "DQN_project_MVA.ipynb",
      "provenance": [],
      "collapsed_sections": []
    },
    "accelerator": "GPU"
  },
  "cells": [
    {
      "cell_type": "markdown",
      "metadata": {
        "id": "LvQms1LQbU5w",
        "colab_type": "text"
      },
      "source": [
        "**You may need to install [OpenCV](https://pypi.python.org/pypi/opencv-python) and [scikit-video](http://www.scikit-video.org/stable/).**"
      ]
    },
    {
      "cell_type": "code",
      "metadata": {
        "id": "ZjwE1F31bXFP",
        "colab_type": "code",
        "outputId": "570df809-5caa-4a6e-daef-212a07ed6767",
        "colab": {
          "base_uri": "https://localhost:8080/",
          "height": 170
        }
      },
      "source": [
        "!pip install sk-video\n",
        "!pip install opencv-python"
      ],
      "execution_count": 3,
      "outputs": [
        {
          "output_type": "stream",
          "text": [
            "Collecting sk-video\n",
            "\u001b[?25l  Downloading https://files.pythonhosted.org/packages/dd/3f/ce848b8b2062ad1ccf1449094a740c775f6c761339f411e44f1e090f23a7/sk_video-1.1.10-py2.py3-none-any.whl (2.3MB)\n",
            "\r\u001b[K     |▏                               | 10kB 23.5MB/s eta 0:00:01\r\u001b[K     |▎                               | 20kB 6.3MB/s eta 0:00:01\r\u001b[K     |▍                               | 30kB 8.8MB/s eta 0:00:01\r\u001b[K     |▋                               | 40kB 11.2MB/s eta 0:00:01\r\u001b[K     |▊                               | 51kB 7.2MB/s eta 0:00:01\r\u001b[K     |▉                               | 61kB 8.5MB/s eta 0:00:01\r\u001b[K     |█                               | 71kB 9.7MB/s eta 0:00:01\r\u001b[K     |█▏                              | 81kB 10.8MB/s eta 0:00:01\r\u001b[K     |█▎                              | 92kB 11.9MB/s eta 0:00:01\r\u001b[K     |█▌                              | 102kB 9.4MB/s eta 0:00:01\r\u001b[K     |█▋                              | 112kB 9.4MB/s eta 0:00:01\r\u001b[K     |█▊                              | 122kB 9.4MB/s eta 0:00:01\r\u001b[K     |██                              | 133kB 9.4MB/s eta 0:00:01\r\u001b[K     |██                              | 143kB 9.4MB/s eta 0:00:01\r\u001b[K     |██▏                             | 153kB 9.4MB/s eta 0:00:01\r\u001b[K     |██▎                             | 163kB 9.4MB/s eta 0:00:01\r\u001b[K     |██▌                             | 174kB 9.4MB/s eta 0:00:01\r\u001b[K     |██▋                             | 184kB 9.4MB/s eta 0:00:01\r\u001b[K     |██▊                             | 194kB 9.4MB/s eta 0:00:01\r\u001b[K     |███                             | 204kB 9.4MB/s eta 0:00:01\r\u001b[K     |███                             | 215kB 9.4MB/s eta 0:00:01\r\u001b[K     |███▏                            | 225kB 9.4MB/s eta 0:00:01\r\u001b[K     |███▍                            | 235kB 9.4MB/s eta 0:00:01\r\u001b[K     |███▌                            | 245kB 9.4MB/s eta 0:00:01\r\u001b[K     |███▋                            | 256kB 9.4MB/s eta 0:00:01\r\u001b[K     |███▉                            | 266kB 9.4MB/s eta 0:00:01\r\u001b[K     |████                            | 276kB 9.4MB/s eta 0:00:01\r\u001b[K     |████                            | 286kB 9.4MB/s eta 0:00:01\r\u001b[K     |████▏                           | 296kB 9.4MB/s eta 0:00:01\r\u001b[K     |████▍                           | 307kB 9.4MB/s eta 0:00:01\r\u001b[K     |████▌                           | 317kB 9.4MB/s eta 0:00:01\r\u001b[K     |████▋                           | 327kB 9.4MB/s eta 0:00:01\r\u001b[K     |████▉                           | 337kB 9.4MB/s eta 0:00:01\r\u001b[K     |█████                           | 348kB 9.4MB/s eta 0:00:01\r\u001b[K     |█████                           | 358kB 9.4MB/s eta 0:00:01\r\u001b[K     |█████▎                          | 368kB 9.4MB/s eta 0:00:01\r\u001b[K     |█████▍                          | 378kB 9.4MB/s eta 0:00:01\r\u001b[K     |█████▌                          | 389kB 9.4MB/s eta 0:00:01\r\u001b[K     |█████▊                          | 399kB 9.4MB/s eta 0:00:01\r\u001b[K     |█████▉                          | 409kB 9.4MB/s eta 0:00:01\r\u001b[K     |██████                          | 419kB 9.4MB/s eta 0:00:01\r\u001b[K     |██████▏                         | 430kB 9.4MB/s eta 0:00:01\r\u001b[K     |██████▎                         | 440kB 9.4MB/s eta 0:00:01\r\u001b[K     |██████▍                         | 450kB 9.4MB/s eta 0:00:01\r\u001b[K     |██████▌                         | 460kB 9.4MB/s eta 0:00:01\r\u001b[K     |██████▊                         | 471kB 9.4MB/s eta 0:00:01\r\u001b[K     |██████▉                         | 481kB 9.4MB/s eta 0:00:01\r\u001b[K     |███████                         | 491kB 9.4MB/s eta 0:00:01\r\u001b[K     |███████▏                        | 501kB 9.4MB/s eta 0:00:01\r\u001b[K     |███████▎                        | 512kB 9.4MB/s eta 0:00:01\r\u001b[K     |███████▍                        | 522kB 9.4MB/s eta 0:00:01\r\u001b[K     |███████▋                        | 532kB 9.4MB/s eta 0:00:01\r\u001b[K     |███████▊                        | 542kB 9.4MB/s eta 0:00:01\r\u001b[K     |███████▉                        | 552kB 9.4MB/s eta 0:00:01\r\u001b[K     |████████                        | 563kB 9.4MB/s eta 0:00:01\r\u001b[K     |████████▏                       | 573kB 9.4MB/s eta 0:00:01\r\u001b[K     |████████▎                       | 583kB 9.4MB/s eta 0:00:01\r\u001b[K     |████████▍                       | 593kB 9.4MB/s eta 0:00:01\r\u001b[K     |████████▋                       | 604kB 9.4MB/s eta 0:00:01\r\u001b[K     |████████▊                       | 614kB 9.4MB/s eta 0:00:01\r\u001b[K     |████████▉                       | 624kB 9.4MB/s eta 0:00:01\r\u001b[K     |█████████                       | 634kB 9.4MB/s eta 0:00:01\r\u001b[K     |█████████▏                      | 645kB 9.4MB/s eta 0:00:01\r\u001b[K     |█████████▎                      | 655kB 9.4MB/s eta 0:00:01\r\u001b[K     |█████████▌                      | 665kB 9.4MB/s eta 0:00:01\r\u001b[K     |█████████▋                      | 675kB 9.4MB/s eta 0:00:01\r\u001b[K     |█████████▊                      | 686kB 9.4MB/s eta 0:00:01\r\u001b[K     |██████████                      | 696kB 9.4MB/s eta 0:00:01\r\u001b[K     |██████████                      | 706kB 9.4MB/s eta 0:00:01\r\u001b[K     |██████████▏                     | 716kB 9.4MB/s eta 0:00:01\r\u001b[K     |██████████▎                     | 727kB 9.4MB/s eta 0:00:01\r\u001b[K     |██████████▌                     | 737kB 9.4MB/s eta 0:00:01\r\u001b[K     |██████████▋                     | 747kB 9.4MB/s eta 0:00:01\r\u001b[K     |██████████▊                     | 757kB 9.4MB/s eta 0:00:01\r\u001b[K     |███████████                     | 768kB 9.4MB/s eta 0:00:01\r\u001b[K     |███████████                     | 778kB 9.4MB/s eta 0:00:01\r\u001b[K     |███████████▏                    | 788kB 9.4MB/s eta 0:00:01\r\u001b[K     |███████████▍                    | 798kB 9.4MB/s eta 0:00:01\r\u001b[K     |███████████▌                    | 808kB 9.4MB/s eta 0:00:01\r\u001b[K     |███████████▋                    | 819kB 9.4MB/s eta 0:00:01\r\u001b[K     |███████████▉                    | 829kB 9.4MB/s eta 0:00:01\r\u001b[K     |████████████                    | 839kB 9.4MB/s eta 0:00:01\r\u001b[K     |████████████                    | 849kB 9.4MB/s eta 0:00:01\r\u001b[K     |████████████▎                   | 860kB 9.4MB/s eta 0:00:01\r\u001b[K     |████████████▍                   | 870kB 9.4MB/s eta 0:00:01\r\u001b[K     |████████████▌                   | 880kB 9.4MB/s eta 0:00:01\r\u001b[K     |████████████▋                   | 890kB 9.4MB/s eta 0:00:01\r\u001b[K     |████████████▉                   | 901kB 9.4MB/s eta 0:00:01\r\u001b[K     |█████████████                   | 911kB 9.4MB/s eta 0:00:01\r\u001b[K     |█████████████                   | 921kB 9.4MB/s eta 0:00:01\r\u001b[K     |█████████████▎                  | 931kB 9.4MB/s eta 0:00:01\r\u001b[K     |█████████████▍                  | 942kB 9.4MB/s eta 0:00:01\r\u001b[K     |█████████████▌                  | 952kB 9.4MB/s eta 0:00:01\r\u001b[K     |█████████████▊                  | 962kB 9.4MB/s eta 0:00:01\r\u001b[K     |█████████████▉                  | 972kB 9.4MB/s eta 0:00:01\r\u001b[K     |██████████████                  | 983kB 9.4MB/s eta 0:00:01\r\u001b[K     |██████████████▏                 | 993kB 9.4MB/s eta 0:00:01\r\u001b[K     |██████████████▎                 | 1.0MB 9.4MB/s eta 0:00:01\r\u001b[K     |██████████████▍                 | 1.0MB 9.4MB/s eta 0:00:01\r\u001b[K     |██████████████▌                 | 1.0MB 9.4MB/s eta 0:00:01\r\u001b[K     |██████████████▊                 | 1.0MB 9.4MB/s eta 0:00:01\r\u001b[K     |██████████████▉                 | 1.0MB 9.4MB/s eta 0:00:01\r\u001b[K     |███████████████                 | 1.1MB 9.4MB/s eta 0:00:01\r\u001b[K     |███████████████▏                | 1.1MB 9.4MB/s eta 0:00:01\r\u001b[K     |███████████████▎                | 1.1MB 9.4MB/s eta 0:00:01\r\u001b[K     |███████████████▍                | 1.1MB 9.4MB/s eta 0:00:01\r\u001b[K     |███████████████▋                | 1.1MB 9.4MB/s eta 0:00:01\r\u001b[K     |███████████████▊                | 1.1MB 9.4MB/s eta 0:00:01\r\u001b[K     |███████████████▉                | 1.1MB 9.4MB/s eta 0:00:01\r\u001b[K     |████████████████                | 1.1MB 9.4MB/s eta 0:00:01\r\u001b[K     |████████████████▏               | 1.1MB 9.4MB/s eta 0:00:01\r\u001b[K     |████████████████▎               | 1.1MB 9.4MB/s eta 0:00:01\r\u001b[K     |████████████████▍               | 1.2MB 9.4MB/s eta 0:00:01\r\u001b[K     |████████████████▋               | 1.2MB 9.4MB/s eta 0:00:01\r\u001b[K     |████████████████▊               | 1.2MB 9.4MB/s eta 0:00:01\r\u001b[K     |████████████████▉               | 1.2MB 9.4MB/s eta 0:00:01\r\u001b[K     |█████████████████               | 1.2MB 9.4MB/s eta 0:00:01\r\u001b[K     |█████████████████▏              | 1.2MB 9.4MB/s eta 0:00:01\r\u001b[K     |█████████████████▎              | 1.2MB 9.4MB/s eta 0:00:01\r\u001b[K     |█████████████████▌              | 1.2MB 9.4MB/s eta 0:00:01\r\u001b[K     |█████████████████▋              | 1.2MB 9.4MB/s eta 0:00:01\r\u001b[K     |█████████████████▊              | 1.2MB 9.4MB/s eta 0:00:01\r\u001b[K     |██████████████████              | 1.3MB 9.4MB/s eta 0:00:01\r\u001b[K     |██████████████████              | 1.3MB 9.4MB/s eta 0:00:01\r\u001b[K     |██████████████████▏             | 1.3MB 9.4MB/s eta 0:00:01\r\u001b[K     |██████████████████▍             | 1.3MB 9.4MB/s eta 0:00:01\r\u001b[K     |██████████████████▌             | 1.3MB 9.4MB/s eta 0:00:01\r\u001b[K     |██████████████████▋             | 1.3MB 9.4MB/s eta 0:00:01\r\u001b[K     |██████████████████▊             | 1.3MB 9.4MB/s eta 0:00:01\r\u001b[K     |███████████████████             | 1.3MB 9.4MB/s eta 0:00:01\r\u001b[K     |███████████████████             | 1.3MB 9.4MB/s eta 0:00:01\r\u001b[K     |███████████████████▏            | 1.4MB 9.4MB/s eta 0:00:01\r\u001b[K     |███████████████████▍            | 1.4MB 9.4MB/s eta 0:00:01\r\u001b[K     |███████████████████▌            | 1.4MB 9.4MB/s eta 0:00:01\r\u001b[K     |███████████████████▋            | 1.4MB 9.4MB/s eta 0:00:01\r\u001b[K     |███████████████████▉            | 1.4MB 9.4MB/s eta 0:00:01\r\u001b[K     |████████████████████            | 1.4MB 9.4MB/s eta 0:00:01\r\u001b[K     |████████████████████            | 1.4MB 9.4MB/s eta 0:00:01\r\u001b[K     |████████████████████▎           | 1.4MB 9.4MB/s eta 0:00:01\r\u001b[K     |████████████████████▍           | 1.4MB 9.4MB/s eta 0:00:01\r\u001b[K     |████████████████████▌           | 1.4MB 9.4MB/s eta 0:00:01\r\u001b[K     |████████████████████▋           | 1.5MB 9.4MB/s eta 0:00:01\r\u001b[K     |████████████████████▉           | 1.5MB 9.4MB/s eta 0:00:01\r\u001b[K     |█████████████████████           | 1.5MB 9.4MB/s eta 0:00:01\r\u001b[K     |█████████████████████           | 1.5MB 9.4MB/s eta 0:00:01\r\u001b[K     |█████████████████████▎          | 1.5MB 9.4MB/s eta 0:00:01\r\u001b[K     |█████████████████████▍          | 1.5MB 9.4MB/s eta 0:00:01\r\u001b[K     |█████████████████████▌          | 1.5MB 9.4MB/s eta 0:00:01\r\u001b[K     |█████████████████████▊          | 1.5MB 9.4MB/s eta 0:00:01\r\u001b[K     |█████████████████████▉          | 1.5MB 9.4MB/s eta 0:00:01\r\u001b[K     |██████████████████████          | 1.5MB 9.4MB/s eta 0:00:01\r\u001b[K     |██████████████████████▏         | 1.6MB 9.4MB/s eta 0:00:01\r\u001b[K     |██████████████████████▎         | 1.6MB 9.4MB/s eta 0:00:01\r\u001b[K     |██████████████████████▍         | 1.6MB 9.4MB/s eta 0:00:01\r\u001b[K     |██████████████████████▌         | 1.6MB 9.4MB/s eta 0:00:01\r\u001b[K     |██████████████████████▊         | 1.6MB 9.4MB/s eta 0:00:01\r\u001b[K     |██████████████████████▉         | 1.6MB 9.4MB/s eta 0:00:01\r\u001b[K     |███████████████████████         | 1.6MB 9.4MB/s eta 0:00:01\r\u001b[K     |███████████████████████▏        | 1.6MB 9.4MB/s eta 0:00:01\r\u001b[K     |███████████████████████▎        | 1.6MB 9.4MB/s eta 0:00:01\r\u001b[K     |███████████████████████▍        | 1.6MB 9.4MB/s eta 0:00:01\r\u001b[K     |███████████████████████▋        | 1.7MB 9.4MB/s eta 0:00:01\r\u001b[K     |███████████████████████▊        | 1.7MB 9.4MB/s eta 0:00:01\r\u001b[K     |███████████████████████▉        | 1.7MB 9.4MB/s eta 0:00:01\r\u001b[K     |████████████████████████        | 1.7MB 9.4MB/s eta 0:00:01\r\u001b[K     |████████████████████████▏       | 1.7MB 9.4MB/s eta 0:00:01\r\u001b[K     |████████████████████████▎       | 1.7MB 9.4MB/s eta 0:00:01\r\u001b[K     |████████████████████████▌       | 1.7MB 9.4MB/s eta 0:00:01\r\u001b[K     |████████████████████████▋       | 1.7MB 9.4MB/s eta 0:00:01\r\u001b[K     |████████████████████████▊       | 1.7MB 9.4MB/s eta 0:00:01\r\u001b[K     |████████████████████████▉       | 1.8MB 9.4MB/s eta 0:00:01\r\u001b[K     |█████████████████████████       | 1.8MB 9.4MB/s eta 0:00:01\r\u001b[K     |█████████████████████████▏      | 1.8MB 9.4MB/s eta 0:00:01\r\u001b[K     |█████████████████████████▎      | 1.8MB 9.4MB/s eta 0:00:01\r\u001b[K     |█████████████████████████▌      | 1.8MB 9.4MB/s eta 0:00:01\r\u001b[K     |█████████████████████████▋      | 1.8MB 9.4MB/s eta 0:00:01\r\u001b[K     |█████████████████████████▊      | 1.8MB 9.4MB/s eta 0:00:01\r\u001b[K     |██████████████████████████      | 1.8MB 9.4MB/s eta 0:00:01\r\u001b[K     |██████████████████████████      | 1.8MB 9.4MB/s eta 0:00:01\r\u001b[K     |██████████████████████████▏     | 1.8MB 9.4MB/s eta 0:00:01\r\u001b[K     |██████████████████████████▍     | 1.9MB 9.4MB/s eta 0:00:01\r\u001b[K     |██████████████████████████▌     | 1.9MB 9.4MB/s eta 0:00:01\r\u001b[K     |██████████████████████████▋     | 1.9MB 9.4MB/s eta 0:00:01\r\u001b[K     |██████████████████████████▊     | 1.9MB 9.4MB/s eta 0:00:01\r\u001b[K     |███████████████████████████     | 1.9MB 9.4MB/s eta 0:00:01\r\u001b[K     |███████████████████████████     | 1.9MB 9.4MB/s eta 0:00:01\r\u001b[K     |███████████████████████████▏    | 1.9MB 9.4MB/s eta 0:00:01\r\u001b[K     |███████████████████████████▍    | 1.9MB 9.4MB/s eta 0:00:01\r\u001b[K     |███████████████████████████▌    | 1.9MB 9.4MB/s eta 0:00:01\r\u001b[K     |███████████████████████████▋    | 1.9MB 9.4MB/s eta 0:00:01\r\u001b[K     |███████████████████████████▉    | 2.0MB 9.4MB/s eta 0:00:01\r\u001b[K     |████████████████████████████    | 2.0MB 9.4MB/s eta 0:00:01\r\u001b[K     |████████████████████████████    | 2.0MB 9.4MB/s eta 0:00:01\r\u001b[K     |████████████████████████████▎   | 2.0MB 9.4MB/s eta 0:00:01\r\u001b[K     |████████████████████████████▍   | 2.0MB 9.4MB/s eta 0:00:01\r\u001b[K     |████████████████████████████▌   | 2.0MB 9.4MB/s eta 0:00:01\r\u001b[K     |████████████████████████████▋   | 2.0MB 9.4MB/s eta 0:00:01\r\u001b[K     |████████████████████████████▉   | 2.0MB 9.4MB/s eta 0:00:01\r\u001b[K     |█████████████████████████████   | 2.0MB 9.4MB/s eta 0:00:01\r\u001b[K     |█████████████████████████████   | 2.0MB 9.4MB/s eta 0:00:01\r\u001b[K     |█████████████████████████████▎  | 2.1MB 9.4MB/s eta 0:00:01\r\u001b[K     |█████████████████████████████▍  | 2.1MB 9.4MB/s eta 0:00:01\r\u001b[K     |█████████████████████████████▌  | 2.1MB 9.4MB/s eta 0:00:01\r\u001b[K     |█████████████████████████████▊  | 2.1MB 9.4MB/s eta 0:00:01\r\u001b[K     |█████████████████████████████▉  | 2.1MB 9.4MB/s eta 0:00:01\r\u001b[K     |██████████████████████████████  | 2.1MB 9.4MB/s eta 0:00:01\r\u001b[K     |██████████████████████████████▏ | 2.1MB 9.4MB/s eta 0:00:01\r\u001b[K     |██████████████████████████████▎ | 2.1MB 9.4MB/s eta 0:00:01\r\u001b[K     |██████████████████████████████▍ | 2.1MB 9.4MB/s eta 0:00:01\r\u001b[K     |██████████████████████████████▋ | 2.2MB 9.4MB/s eta 0:00:01\r\u001b[K     |██████████████████████████████▊ | 2.2MB 9.4MB/s eta 0:00:01\r\u001b[K     |██████████████████████████████▉ | 2.2MB 9.4MB/s eta 0:00:01\r\u001b[K     |███████████████████████████████ | 2.2MB 9.4MB/s eta 0:00:01\r\u001b[K     |███████████████████████████████▏| 2.2MB 9.4MB/s eta 0:00:01\r\u001b[K     |███████████████████████████████▎| 2.2MB 9.4MB/s eta 0:00:01\r\u001b[K     |███████████████████████████████▍| 2.2MB 9.4MB/s eta 0:00:01\r\u001b[K     |███████████████████████████████▋| 2.2MB 9.4MB/s eta 0:00:01\r\u001b[K     |███████████████████████████████▊| 2.2MB 9.4MB/s eta 0:00:01\r\u001b[K     |███████████████████████████████▉| 2.2MB 9.4MB/s eta 0:00:01\r\u001b[K     |████████████████████████████████| 2.3MB 9.4MB/s \n",
            "\u001b[?25hRequirement already satisfied: numpy in /usr/local/lib/python3.6/dist-packages (from sk-video) (1.17.5)\n",
            "Requirement already satisfied: scipy in /usr/local/lib/python3.6/dist-packages (from sk-video) (1.4.1)\n",
            "Installing collected packages: sk-video\n",
            "Successfully installed sk-video-1.1.10\n",
            "Requirement already satisfied: opencv-python in /usr/local/lib/python3.6/dist-packages (4.1.2.30)\n",
            "Requirement already satisfied: numpy>=1.11.3 in /usr/local/lib/python3.6/dist-packages (from opencv-python) (1.17.5)\n"
          ],
          "name": "stdout"
        }
      ]
    },
    {
      "cell_type": "code",
      "metadata": {
        "id": "Peg5hgk3bU5z",
        "colab_type": "code",
        "outputId": "125b38c1-27ea-4ff5-ea7f-18ee2dd79312",
        "colab": {
          "base_uri": "https://localhost:8080/",
          "height": 63
        }
      },
      "source": [
        "#import keras\n",
        "import numpy as np\n",
        "import io\n",
        "import base64\n",
        "from IPython.display import HTML\n",
        "import skvideo.io\n",
        "import cv2\n",
        "import json\n",
        "\n",
        "import tensorflow as tf\n",
        "from tensorflow.keras.models import Sequential, model_from_json\n",
        "from tensorflow.keras.layers import Dense, Flatten\n",
        "from tensorflow.keras.optimizers import SGD\n",
        "from tensorflow.keras.layers import Conv2D, MaxPooling2D, Activation, AveragePooling2D,Reshape,BatchNormalization"
      ],
      "execution_count": 4,
      "outputs": [
        {
          "output_type": "display_data",
          "data": {
            "text/html": [
              "<p style=\"color: red;\">\n",
              "The default version of TensorFlow in Colab will soon switch to TensorFlow 2.x.<br>\n",
              "We recommend you <a href=\"https://www.tensorflow.org/guide/migrate\" target=\"_blank\">upgrade</a> now \n",
              "or ensure your notebook will continue to use TensorFlow 1.x via the <code>%tensorflow_version 1.x</code> magic:\n",
              "<a href=\"https://colab.research.google.com/notebooks/tensorflow_version.ipynb\" target=\"_blank\">more info</a>.</p>\n"
            ],
            "text/plain": [
              "<IPython.core.display.HTML object>"
            ]
          },
          "metadata": {
            "tags": []
          }
        }
      ]
    },
    {
      "cell_type": "markdown",
      "metadata": {
        "id": "b5deYiSrbU53",
        "colab_type": "text"
      },
      "source": [
        "# MiniProject on Deep Reinforcement Learning"
      ]
    },
    {
      "cell_type": "markdown",
      "metadata": {
        "id": "8PrWlR-PbU54",
        "colab_type": "text"
      },
      "source": [
        "__Notations__: $E_p$ is the expectation under probability $p$. Please justify each of your answer and widely comment your code."
      ]
    },
    {
      "cell_type": "markdown",
      "metadata": {
        "id": "U0hF02LTbU55",
        "colab_type": "text"
      },
      "source": [
        "# Context"
      ]
    },
    {
      "cell_type": "markdown",
      "metadata": {
        "id": "bXlcCEc7bU56",
        "colab_type": "text"
      },
      "source": [
        "In a reinforcement learning algorithm, we modelize each step $t$ as an action $a_t$ obtained from a state $s_t$, i.e. $\\{(a_{t},s_{t})_{t\\leq T}\\}$ having the Markov property. We consider a discount factor $\\gamma \\in [0,1]$ that ensures convergence. The goal is to find among all the policies $\\pi$, one that maximizes the expected reward:\n",
        "\n",
        "\\begin{equation*}\n",
        "R(\\pi)=\\sum_{t\\leq T}E_{p^{\\pi}}[\\gamma^t r(s_{t},a_{t})] \\> ,\n",
        "\\end{equation*}\n",
        "\n",
        "where: \n",
        "\\begin{equation*}p^{\\pi}(a_{0},a_{1},s_{1},...,a_{T},s_{T})=p(a_{0})\\prod_{t=1}^{T}\\pi(a_{t}|s_{t})p(s_{t+1}|s_{t},a_{t}) \\> .\n",
        "\\end{equation*}\n",
        "\n",
        "We note the $Q$-function:\n",
        "\n",
        "\\begin{equation*}Q^\\pi(s,a)=E_{p^{\\pi}}[\\sum_{t\\leq T}\\gamma^{t}r(s_{t},a_{t})|s_{0}=s,a_{0}=a] \\> .\n",
        "\\end{equation*}\n",
        "\n",
        "Thus, the optimal Q function is:\n",
        "\\begin{equation*}\n",
        "Q^*(s,a)=\\max_{\\pi}Q^\\pi(s,a) \\> .\n",
        "\\end{equation*}\n",
        "\n",
        "In this project, we will apply the deep reinforcement learning techniques to a simple game: an agent will have to learn from scratch a policy that will permit it maximizing a reward."
      ]
    },
    {
      "cell_type": "markdown",
      "metadata": {
        "id": "NbEV_fOMbU57",
        "colab_type": "text"
      },
      "source": [
        "## The environment, the agent and the game"
      ]
    },
    {
      "cell_type": "markdown",
      "metadata": {
        "id": "lWl8VYIUbU58",
        "colab_type": "text"
      },
      "source": [
        "### The environment"
      ]
    },
    {
      "cell_type": "markdown",
      "metadata": {
        "id": "KEfgSQdEbU59",
        "colab_type": "text"
      },
      "source": [
        "```Environment``` is an abstract class that represents the states, rewards, and actions to obtain the new state."
      ]
    },
    {
      "cell_type": "code",
      "metadata": {
        "id": "dHEU88GIbU5-",
        "colab_type": "code",
        "colab": {}
      },
      "source": [
        "class Environment(object):\n",
        "    def __init__(self):\n",
        "        pass\n",
        "\n",
        "    def act(self, act):\n",
        "        \"\"\"\n",
        "        One can act on the environment and obtain its reaction:\n",
        "        - the new state\n",
        "        - the reward of the new state\n",
        "        - should we continue the game?\n",
        "\n",
        "        :return: state, reward, game_over\n",
        "        \"\"\"\n",
        "        \n",
        "        \n",
        "        pass\n",
        "\n",
        "\n",
        "    def reset(self):\n",
        "        \"\"\"\n",
        "        Reinitialize the environment to a random state and returns\n",
        "        the original state\n",
        "\n",
        "        :return: state\n",
        "        \"\"\"\n",
        "        pass\n",
        "    \n",
        "    def draw(self):\n",
        "        \"\"\"\n",
        "        Visualize in the console or graphically the current state\n",
        "        \"\"\"\n",
        "        pass"
      ],
      "execution_count": 0,
      "outputs": []
    },
    {
      "cell_type": "markdown",
      "metadata": {
        "id": "FRdt4lUnbU6B",
        "colab_type": "text"
      },
      "source": [
        "The method ```act``` allows to act on the environment at a given state $s_t$ (stored internally), via action $a_t$. The method will return the new state $s_{t+1}$, the reward $r(s_{t},a_{t})$ and determines if $t\\leq T$ (*game_over*).\n",
        "\n",
        "The method ```reset``` simply reinitializes the environment to a random state $s_0$.\n",
        "\n",
        "The method ```draw``` displays the current state $s_t$ (this is useful to check the behavior of the Agent).\n",
        "\n",
        "We modelize $s_t$ as a tensor, while $a_t$ is an integer."
      ]
    },
    {
      "cell_type": "markdown",
      "metadata": {
        "id": "EgMSHR77bU6C",
        "colab_type": "text"
      },
      "source": [
        "### The Agent"
      ]
    },
    {
      "cell_type": "markdown",
      "metadata": {
        "id": "hhv75_-ibU6D",
        "colab_type": "text"
      },
      "source": [
        "The goal of the ```Agent``` is to interact with the ```Environment``` by proposing actions $a_t$ obtained from a given state $s_t$ to attempt to maximize its __reward__ $r(s_t,a_t)$. We propose the following abstract class:"
      ]
    },
    {
      "cell_type": "code",
      "metadata": {
        "id": "OdxhWlwqbU6E",
        "colab_type": "code",
        "colab": {}
      },
      "source": [
        "class Agent(object):\n",
        "    def __init__(self, epsilon=0.1, n_action=4):\n",
        "        self.epsilon = epsilon\n",
        "        self.n_action = n_action\n",
        "    \n",
        "    def set_epsilon(self,e):\n",
        "        self.epsilon = e\n",
        "\n",
        "    def act(self,s,train=True):\n",
        "        \"\"\" This function should return the next action to do:\n",
        "        an integer between 0 and 4 (not included) with a random exploration of epsilon\"\"\"\n",
        "        if train:\n",
        "            if np.random.rand() <= self.epsilon:\n",
        "                a = np.random.randint(0, self.n_action, size=1)[0]\n",
        "            else:\n",
        "                a = self.learned_act(s)\n",
        "        else: # in some cases, this can improve the performance.. remove it if poor performances\n",
        "            a = self.learned_act(s)\n",
        "\n",
        "        return a\n",
        "\n",
        "    def learned_act(self,s):\n",
        "        \"\"\" Act via the policy of the agent, from a given state s\n",
        "        it proposes an action a\"\"\"\n",
        "        pass\n",
        "\n",
        "    def reinforce(self, s, n_s, a, r, game_over_):\n",
        "        \"\"\" This function is the core of the learning algorithm. \n",
        "        It takes as an input the current state s_, the next state n_s_\n",
        "        the action a_ used to move from s_ to n_s_ and the reward r_.\n",
        "        \n",
        "        Its goal is to learn a policy.\n",
        "        \"\"\"\n",
        "        pass\n",
        "\n",
        "    def save(self):\n",
        "        \"\"\" This function returns basic stats if applicable: the\n",
        "        loss and/or the model\"\"\"\n",
        "        pass\n",
        "\n",
        "    def load(self):\n",
        "        \"\"\" This function allows to restore a model\"\"\"\n",
        "        pass"
      ],
      "execution_count": 0,
      "outputs": []
    },
    {
      "cell_type": "markdown",
      "metadata": {
        "id": "MlO7igE0bU6I",
        "colab_type": "text"
      },
      "source": [
        "***\n",
        "__Question 1__:\n",
        "Explain the function act. Why is ```epsilon``` essential?"
      ]
    },
    {
      "cell_type": "markdown",
      "metadata": {
        "id": "ttrWEFBTbU6J",
        "colab_type": "text"
      },
      "source": [
        "the function act returns an action proposed by the agent. There is probability epsilon that the agent chooses a random action, otherwise the agent chooses an action that is self-learned given the state. Epsilon is essential for random exploration of different paths which reduces of risk of staying in a local minimum for our optimization"
      ]
    },
    {
      "cell_type": "markdown",
      "metadata": {
        "id": "8xNZa0U6bU6K",
        "colab_type": "text"
      },
      "source": [
        "***\n",
        "### The Game"
      ]
    },
    {
      "cell_type": "markdown",
      "metadata": {
        "id": "cUKbxUKJbU6K",
        "colab_type": "text"
      },
      "source": [
        "The ```Agent``` and the ```Environment``` work in an interlaced way as in the following (take some time to understand this code as it is the core of the project)\n",
        "\n",
        "```python\n",
        "\n",
        "epoch = 300\n",
        "env = Environment()\n",
        "agent = Agent()\n",
        "\n",
        "\n",
        "# Number of won games\n",
        "score = 0\n",
        "loss = 0\n",
        "\n",
        "\n",
        "for e in range(epoch):\n",
        "    # At each epoch, we restart to a fresh game and get the initial state\n",
        "    state = env.reset()\n",
        "    # This assumes that the games will end\n",
        "    game_over = False\n",
        "\n",
        "    win = 0\n",
        "    lose = 0\n",
        "    \n",
        "    while not game_over:\n",
        "        # The agent performs an action\n",
        "        action = agent.act(state)\n",
        "\n",
        "        # Apply an action to the environment, get the next state, the reward\n",
        "        # and if the games end\n",
        "        prev_state = state\n",
        "        state, reward, game_over = env.act(action)\n",
        "\n",
        "        # Update the counters\n",
        "        if reward > 0:\n",
        "            win = win + reward\n",
        "        if reward < 0:\n",
        "            lose = lose -reward\n",
        "\n",
        "        # Apply the reinforcement strategy\n",
        "        loss = agent.reinforce(prev_state, state,  action, reward, game_over)\n",
        "\n",
        "    # Save as a mp4\n",
        "    if e % 10 == 0:\n",
        "        env.draw(e)\n",
        "\n",
        "    # Update stats\n",
        "    score += win-lose\n",
        "\n",
        "    print(\"Epoch {:03d}/{:03d} | Loss {:.4f} | Win/lose count {}/{} ({})\"\n",
        "          .format(e, epoch, loss, win, lose, win-lose))\n",
        "    agent.save()\n",
        "```"
      ]
    },
    {
      "cell_type": "markdown",
      "metadata": {
        "id": "EuZFKpw5bU6L",
        "colab_type": "text"
      },
      "source": [
        "# The game, *eat cheese*"
      ]
    },
    {
      "cell_type": "markdown",
      "metadata": {
        "id": "iFW4Kd_fbU6M",
        "colab_type": "text"
      },
      "source": [
        "A rat runs on an island and tries to eat as much as possible. The island is subdivided into $N\\times N$ cells, in which there are cheese (+0.5) and poisonous cells (-1). The rat has a visibility of 2 cells (thus it can see $5^2$ cells). The rat is given a time $T$ to accumulate as much food as possible. It can perform 4 actions: going up, down, left, right. \n",
        "\n",
        "The goal is to code an agent to solve this task that will learn by trial and error. We propose the following environment:"
      ]
    },
    {
      "cell_type": "code",
      "metadata": {
        "id": "-0VM48QUbU6N",
        "colab_type": "code",
        "colab": {}
      },
      "source": [
        "class Environment(object):\n",
        "    def __init__(self, grid_size=10, max_time=500, temperature=0.1):\n",
        "        grid_size = grid_size+4\n",
        "        self.grid_size = grid_size\n",
        "        self.max_time = max_time\n",
        "        self.temperature = temperature\n",
        "\n",
        "        #board on which one plays\n",
        "        self.board = np.zeros((grid_size,grid_size))\n",
        "        self.position = np.zeros((grid_size,grid_size))\n",
        "\n",
        "        # coordinate of the cat\n",
        "        self.x = 0\n",
        "        self.y = 1\n",
        "\n",
        "        # self time\n",
        "        self.t = 0\n",
        "\n",
        "        self.scale=16\n",
        "\n",
        "        self.to_draw = np.zeros((max_time+2, grid_size*self.scale, grid_size*self.scale, 3))\n",
        "\n",
        "\n",
        "    def draw(self,e):\n",
        "        skvideo.io.vwrite(str(e) + '.mp4', self.to_draw)\n",
        "\n",
        "    def get_frame(self,t):\n",
        "        b = np.zeros((self.grid_size,self.grid_size,3))+128\n",
        "        b[self.board>0,0] = 256\n",
        "        b[self.board < 0, 2] = 256\n",
        "        b[self.x,self.y,:]=256\n",
        "        b[-2:,:,:]=0\n",
        "        b[:,-2:,:]=0\n",
        "        b[:2,:,:]=0\n",
        "        b[:,:2,:]=0\n",
        "        \n",
        "        b =  cv2.resize(b, None, fx=self.scale, fy=self.scale, interpolation=cv2.INTER_NEAREST)\n",
        "\n",
        "        self.to_draw[t,:,:,:]=b\n",
        "\n",
        "\n",
        "    def act(self, action):\n",
        "        \"\"\"This function returns the new state, reward and decides if the\n",
        "        game ends.\"\"\"\n",
        "\n",
        "        self.get_frame(int(self.t))\n",
        "\n",
        "        self.position = np.zeros((self.grid_size, self.grid_size))\n",
        "\n",
        "        self.position[0:2,:]= -1\n",
        "        self.position[:,0:2] = -1\n",
        "        self.position[-2:, :] = -1\n",
        "        self.position[-2:, :] = -1\n",
        "\n",
        "        self.position[self.x, self.y] = 1\n",
        "        if action == 0:\n",
        "            if self.x == self.grid_size-3:\n",
        "                self.x = self.x-1\n",
        "            else:\n",
        "                self.x = self.x + 1\n",
        "        elif action == 1:\n",
        "            if self.x == 2:\n",
        "                self.x = self.x+1\n",
        "            else:\n",
        "                self.x = self.x-1\n",
        "        elif action == 2:\n",
        "            if self.y == self.grid_size - 3:\n",
        "                self.y = self.y - 1\n",
        "            else:\n",
        "                self.y = self.y + 1\n",
        "        elif action == 3:\n",
        "            if self.y == 2:\n",
        "                self.y = self.y + 1\n",
        "            else:\n",
        "                self.y = self.y - 1\n",
        "        else:\n",
        "            RuntimeError('Error: action not recognized')\n",
        "\n",
        "        self.t = self.t + 1\n",
        "        reward = self.board[self.x, self.y]\n",
        "        self.board[self.x, self.y] = 0\n",
        "        game_over = self.t > self.max_time\n",
        "        state = np.concatenate((self.board.reshape(self.grid_size, self.grid_size,1),\n",
        "                        self.position.reshape(self.grid_size, self.grid_size,1)),axis=2)\n",
        "        state = state[self.x-2:self.x+3,self.y-2:self.y+3,:]\n",
        "\n",
        "        return state, reward, game_over\n",
        "\n",
        "    def reset(self):\n",
        "        \"\"\"This function resets the game and returns the initial state\"\"\"\n",
        "\n",
        "        self.x = np.random.randint(3, self.grid_size-3, size=1)[0]\n",
        "        self.y = np.random.randint(3, self.grid_size-3, size=1)[0]\n",
        "\n",
        "\n",
        "        bonus = 0.5*np.random.binomial(1,self.temperature,size=self.grid_size**2)\n",
        "        bonus = bonus.reshape(self.grid_size,self.grid_size)\n",
        "\n",
        "        malus = -1.0*np.random.binomial(1,self.temperature,size=self.grid_size**2)\n",
        "        malus = malus.reshape(self.grid_size, self.grid_size)\n",
        "\n",
        "        self.to_draw = np.zeros((self.max_time+2, self.grid_size*self.scale, self.grid_size*self.scale, 3))\n",
        "\n",
        "\n",
        "        malus[bonus>0]=0\n",
        "\n",
        "        self.board = bonus + malus\n",
        "\n",
        "        self.position = np.zeros((self.grid_size, self.grid_size))\n",
        "        self.position[0:2,:]= -1\n",
        "        self.position[:,0:2] = -1\n",
        "        self.position[-2:, :] = -1\n",
        "        self.position[-2:, :] = -1\n",
        "        self.board[self.x,self.y] = 0\n",
        "        self.t = 0\n",
        "\n",
        "        state = np.concatenate((\n",
        "                               self.board.reshape(self.grid_size, self.grid_size,1),\n",
        "                        self.position.reshape(self.grid_size, self.grid_size,1)),axis=2)\n",
        "\n",
        "        state = state[self.x - 2:self.x + 3, self.y - 2:self.y + 3, :]\n",
        "        return state"
      ],
      "execution_count": 0,
      "outputs": []
    },
    {
      "cell_type": "markdown",
      "metadata": {
        "id": "mU_lrlUubU6P",
        "colab_type": "text"
      },
      "source": [
        "The following elements are important because they correspond to the hyper parameters for this project:"
      ]
    },
    {
      "cell_type": "code",
      "metadata": {
        "id": "62wyrb_IbU6Q",
        "colab_type": "code",
        "colab": {}
      },
      "source": [
        "# parameters\n",
        "size = 13\n",
        "T=200\n",
        "temperature=0.3\n",
        "epochs_train=50 # set small when debugging\n",
        "epochs_test=10 # set small when debugging\n",
        "\n",
        "# display videos\n",
        "def display_videos(name):\n",
        "    video = io.open(name, 'r+b').read()\n",
        "    encoded = base64.b64encode(video)\n",
        "    return '''<video alt=\"test\" controls>\n",
        "                <source src=\"data:video/mp4;base64,{0}\" type=\"video/mp4\" />\n",
        "             </video>'''.format(encoded.decode('ascii'))"
      ],
      "execution_count": 0,
      "outputs": []
    },
    {
      "cell_type": "markdown",
      "metadata": {
        "id": "lS10q8lebU6T",
        "colab_type": "text"
      },
      "source": [
        "__Question 2__ Explain the use of the arrays ```position``` and ```board```."
      ]
    },
    {
      "cell_type": "markdown",
      "metadata": {
        "id": "u-kdfx_MbU6U",
        "colab_type": "text"
      },
      "source": [
        "The array \"position\" provides us with information about the cell where is located the rat (value 1) and of the neighboring cells where he has visibility (value -1) the other cells take the value 0. The board array represents the rewards corresponding to each cell (+0.5 for cheese and -1 for poison)"
      ]
    },
    {
      "cell_type": "markdown",
      "metadata": {
        "id": "IKtoX2aJbU6V",
        "colab_type": "text"
      },
      "source": [
        "## Random Agent"
      ]
    },
    {
      "cell_type": "markdown",
      "metadata": {
        "id": "hr_f9bDobU6W",
        "colab_type": "text"
      },
      "source": [
        "***\n",
        "__Question 3__ Implement a random Agent (only ```learned_act``` needs to be implemented):"
      ]
    },
    {
      "cell_type": "code",
      "metadata": {
        "id": "3EuVzg7obU6W",
        "colab_type": "code",
        "colab": {}
      },
      "source": [
        "class RandomAgent(Agent):\n",
        "    def __init__(self):\n",
        "        super(RandomAgent, self).__init__()\n",
        "        pass\n",
        "\n",
        "    def learned_act(self, s):\n",
        "        a = np.random.randint(0, 4, size=1)[0]\n",
        "        return a"
      ],
      "execution_count": 0,
      "outputs": []
    },
    {
      "cell_type": "markdown",
      "metadata": {
        "id": "ovSbsfrwbU6Z",
        "colab_type": "text"
      },
      "source": [
        "***\n",
        "***\n",
        "__Question 4__ Visualize the game moves. You need to fill in the following function for the evaluation:"
      ]
    },
    {
      "cell_type": "code",
      "metadata": {
        "id": "DZ0ItFUEbU6Z",
        "colab_type": "code",
        "colab": {}
      },
      "source": [
        "def test(agent,env,epochs,prefix=''):\n",
        "    # Number of won games\n",
        "    score = 0\n",
        "    loss = 0\n",
        "    \n",
        "    \n",
        "    for e in range(epochs):\n",
        "        \n",
        "        s = env.reset()\n",
        "        \n",
        "        win = 0\n",
        "        lose = 0\n",
        "        \n",
        "        game_over = False\n",
        "        \n",
        "        while not game_over:\n",
        "        \n",
        "            a = agent.act(s)\n",
        "            prev_s = s\n",
        "            s, r, game_over = env.act(a)\n",
        "\n",
        "            if r>0:\n",
        "                win+=r\n",
        "            else:\n",
        "                lose-=r\n",
        "                \n",
        "            loss = agent.reinforce(prev_s, s,  a, r, game_over)\n",
        "\n",
        "        # Save as a mp4\n",
        "        env.draw(prefix+str(e))\n",
        "\n",
        "        # Update stats\n",
        "        score = score + win-lose\n",
        "\n",
        "        print(\"Win/lose count {}/{}. Average score ({})\"\n",
        "              .format(win, lose, score/(1+e)))\n",
        "    print('Final score: '+str(score/epochs))\n",
        "    return score/epochs"
      ],
      "execution_count": 0,
      "outputs": []
    },
    {
      "cell_type": "code",
      "metadata": {
        "id": "gCkadL6FbU6c",
        "colab_type": "code",
        "outputId": "d9c66798-292f-4d57-f71c-f8669d35e86d",
        "colab": {
          "base_uri": "https://localhost:8080/",
          "height": 480
        }
      },
      "source": [
        "# Initialize the game\n",
        "env = Environment(grid_size=size, max_time=T,temperature=temperature)\n",
        "\n",
        "# Initialize the agent!\n",
        "agent = RandomAgent()\n",
        "\n",
        "test(agent,env,epochs_test,prefix='random')\n",
        "HTML(display_videos('random0.mp4'))"
      ],
      "execution_count": 11,
      "outputs": [
        {
          "output_type": "stream",
          "text": [
            "Win/lose count 12.0/-15.0. Average score (27.0)\n",
            "Win/lose count 9.5/-14.0. Average score (25.25)\n",
            "Win/lose count 10.0/-8.0. Average score (22.833333333333332)\n",
            "Win/lose count 11.0/-20.0. Average score (24.875)\n",
            "Win/lose count 14.5/-13.0. Average score (25.4)\n",
            "Win/lose count 10.0/-8.0. Average score (24.166666666666668)\n",
            "Win/lose count 6.5/-10.0. Average score (23.071428571428573)\n",
            "Win/lose count 9.0/-11.0. Average score (22.6875)\n",
            "Win/lose count 11.5/-17.0. Average score (23.333333333333332)\n",
            "Win/lose count 10.0/-11.0. Average score (23.1)\n",
            "Final score: 23.1\n"
          ],
          "name": "stdout"
        },
        {
          "output_type": "execute_result",
          "data": {
            "text/html": [
              "<video alt=\"test\" controls>\n",
              "                <source src=\"data:video/mp4;base64,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\" type=\"video/mp4\" />\n",
              "             </video>"
            ],
            "text/plain": [
              "<IPython.core.display.HTML object>"
            ]
          },
          "metadata": {
            "tags": []
          },
          "execution_count": 11
        }
      ]
    },
    {
      "cell_type": "markdown",
      "metadata": {
        "id": "NgNvILJAbU6g",
        "colab_type": "text"
      },
      "source": [
        "***\n",
        "## DQN"
      ]
    },
    {
      "cell_type": "markdown",
      "metadata": {
        "id": "4dG69VF0bU6g",
        "colab_type": "text"
      },
      "source": [
        "Let us assume here that $T=\\infty$.\n",
        "\n",
        "***\n",
        "__Question 5__ Let $\\pi$ be a policy, show that:\n",
        "\n",
        "\\begin{equation*}\n",
        "Q^{\\pi}(s,a)=E_{(s',a')\\sim p(.|s,a)}[r(s,a)+\\gamma Q^{\\pi}(s',a')]\n",
        "\\end{equation*}\n",
        "\n",
        "Then, show that for the optimal policy $\\pi^*$ (we assume its existence), the following holds: \n",
        "\n",
        "\\begin{equation*}\n",
        "Q^{*}(s,a)=E_{s'\\sim \\pi^*(.|s,a)}[r(s,a)+\\gamma\\max_{a'}Q^{*}(s',a')].\n",
        "\\end{equation*}\n",
        "Finally, deduce that a plausible objective is:\n",
        "\n",
        "\\begin{equation*}\n",
        "\\mathcal{L}(\\theta)=E_{s' \\sim \\pi^*(.|s,a)}\\Vert r+\\gamma\\max_{a'}Q(s',a',\\theta)-Q(s,a,\\theta)\\Vert^{2}.\n",
        "\\end{equation*}\n",
        "\n",
        "\n"
      ]
    },
    {
      "cell_type": "markdown",
      "metadata": {
        "id": "7K5QY6F3bU6h",
        "colab_type": "text"
      },
      "source": [
        " \\begin{align}\n",
        " Q^{\\pi}(s, a)  &= E_{p^{\\pi}}[\\sum_{t=0}^{T}\\gamma^{t}r(s_{t},a_{t})|s_{0}=s,a_{0}=a]\\\\\n",
        "                &= E_{p^{\\pi}}[r(s_0, a_0) + \\sum_{k=1}^{\\infty} \\gamma ^t r(s_t, a_t)|s_0=s, a_0=a]\\\\\n",
        "                &= r(s,a) + \\gamma E_{p^{\\pi}}[E_{p^{\\pi}}[\\sum_{t=0}^{\\infty} \\gamma ^t r(s_t, a_t) | s_1 = s', a_1=a']| s_0=s, a_0=a]\\\\\n",
        "                &= r(s, a) + \\gamma \\sum_{(s',a')} P(s_1=s', a_1=a'|s_0=s, a_0=a) E_{p^{\\pi}}[\\sum_{t=0}^{\\infty} \\gamma ^t r(s_t, a_t)| s_1=s', a_1 = a']\\\\\n",
        "               & = \\sum_{(s',a')} P(s_1=s',a_1=a'|s_0=s, a_0=a) r(s, a)+\\gamma\\sum_{(s',a')}P(s_1=s', a_1=a'|s_0=s,a_0=a)Q^{\\pi}(s', a')\\\\\n",
        "               &= E_{(s',a')\\sim p(.|s,a)}[r(s,a)+\\gamma Q^{\\pi}(s',a')]\n",
        "\\end{align}\n",
        "      \n",
        "\\begin{align}                  \n",
        "Q^* (s, a) &= max_{\\pi} Q^{\\pi}(s,a)\\\\\n",
        "           &= max_{\\pi} E_{(s',a')\\sim p(.|s,a)}[r(s,a)+\\gamma Q^{\\pi}(s',a')]\\\\\n",
        "           &= r(s,a) + max_{\\pi} \\sum P(s_1 = s'|s_0=s, a_0=a)Q^{\\pi}(s',a')\\\\\n",
        "           &= r(s,a) + \\gamma \\sum P(s_1 = s'|s_0=s, a_0=a)max_{a'}max_{a'}Q^{\\pi}(s',a')\\\\\n",
        "           &= r(s,a) + \\gamma \\sum P(s_1 = s'|s_0=s, a_0=a)max_{a'}max_{a'}Q^{*}(s',a')\\\\\n",
        "           &= E_{s'\\sim \\pi^*(.|s,a)}[r(s,a)+\\gamma\\max_{a'}Q^{*}(s',a')]\\\\\n",
        "\\end{align}\n",
        "\n",
        "By choosing the loss function $\\mathcal{L}(\\theta)=E_{s' \\sim \\pi^*(.|s,a)}\\Vert r+\\gamma\\max_{a'}Q(s',a',\\theta)-Q(s,a,\\theta)\\Vert^{2}$, given the previous result, it can make the $Q$-function converge to an optimal solution $Q^*$\n"
      ]
    },
    {
      "cell_type": "markdown",
      "metadata": {
        "id": "QAdr5SchbU6i",
        "colab_type": "text"
      },
      "source": [
        "***\n",
        "The DQN-learning algorithm relies on these derivations to train the parameters $\\theta$ of a Deep Neural Network:\n",
        "\n",
        "1. At the state $s_t$, select the action $a_t$ with best reward using $Q_t$ and store the results;\n",
        "\n",
        "2. Obtain the new state $s_{t+1}$ from the environment $p$;\n",
        "\n",
        "3. Store $(s_t,a_t,s_{t+1})$;\n",
        "\n",
        "4. Obtain $Q_{t+1}$ by minimizing  $\\mathcal{L}$ from a recovered batch from the previously stored results.\n",
        "\n",
        "***\n",
        "__Question 6__ Implement the class ```Memory``` that stores moves (in a replay buffer) via ```remember``` and provides a ```random_access``` to these. Specify a maximum memory size to avoid side effects. You can for example use a ```list()``` and set by default ```max_memory=100```."
      ]
    },
    {
      "cell_type": "code",
      "metadata": {
        "id": "q9dHX42wbU6k",
        "colab_type": "code",
        "colab": {}
      },
      "source": [
        "class Memory(object):\n",
        "    def __init__(self, max_memory=100):\n",
        "        self.max_memory = max_memory\n",
        "        self.memory = list()\n",
        "\n",
        "    def remember(self, m):\n",
        "        if len(self.memory) < self.max_memory:\n",
        "            self.memory.append(m)\n",
        "        else:\n",
        "            MemoryError(\"Memory is full\")\n",
        "\n",
        "    def random_access(self):\n",
        "        item = np.random.randint(0, len(self.memory), size=1)[0]\n",
        "        return self.memory[item]"
      ],
      "execution_count": 0,
      "outputs": []
    },
    {
      "cell_type": "markdown",
      "metadata": {
        "id": "TKPx26SGbU6n",
        "colab_type": "text"
      },
      "source": [
        "***\n",
        "The pipeline we will use for training is given below:"
      ]
    },
    {
      "cell_type": "code",
      "metadata": {
        "id": "bZQrBkNobU6o",
        "colab_type": "code",
        "colab": {}
      },
      "source": [
        "def train(agent,env,epoch,prefix=''):\n",
        "    # Number of won games\n",
        "    score = 0\n",
        "    loss = 0\n",
        "\n",
        "    for e in range(epoch):\n",
        "        # At each epoch, we restart to a fresh game and get the initial state\n",
        "        state = env.reset()\n",
        "        # This assumes that the games will terminate\n",
        "        game_over = False\n",
        "\n",
        "        win = 0\n",
        "        lose = 0\n",
        "\n",
        "        while not game_over:\n",
        "            # The agent performs an action\n",
        "            action = agent.act(state)\n",
        "\n",
        "            # Apply an action to the environment, get the next state, the reward\n",
        "            # and if the games end\n",
        "            prev_state = state\n",
        "            state, reward, game_over = env.act(action)\n",
        "\n",
        "            # Update the counters\n",
        "            if reward > 0:\n",
        "                win = win + reward\n",
        "            if reward < 0:\n",
        "                lose = lose -reward\n",
        "\n",
        "            # Apply the reinforcement strategy\n",
        "            loss = agent.reinforce(prev_state, state,  action, reward, game_over)\n",
        "\n",
        "        # Save as a mp4\n",
        "        if e % 5 == 0:\n",
        "            env.draw(prefix+str(e))\n",
        "\n",
        "        # Update stats\n",
        "        score += win-lose\n",
        "\n",
        "        print(\"Epoch {:03d}/{:03d} | Loss {:.4f} | Win/lose count {}/{} ({})\"\n",
        "              .format(e, epoch, loss, win, lose, win-lose))\n",
        "        agent.save(name_weights=prefix+'model.h5',name_model=prefix+'model.json')"
      ],
      "execution_count": 0,
      "outputs": []
    },
    {
      "cell_type": "markdown",
      "metadata": {
        "id": "qTZCvXEUbU6r",
        "colab_type": "text"
      },
      "source": [
        "***\n",
        "__Question 7__ Implement the DQN training algorithm using a cascade of fully connected layers. You can use different learning rate, batch size or memory size parameters. In particular, the loss might oscillate while the player will start to win the games. You have to find a good criterium."
      ]
    },
    {
      "cell_type": "code",
      "metadata": {
        "id": "q5qyTpDhbU6r",
        "colab_type": "code",
        "colab": {}
      },
      "source": [
        "class DQN(Agent):\n",
        "    def __init__(self, grid_size,  epsilon = 0.1, memory_size=100, batch_size = 16,n_state=2):\n",
        "        super(DQN, self).__init__(epsilon = epsilon)\n",
        "\n",
        "        # Discount for Q learning\n",
        "        self.discount = 0.99\n",
        "        \n",
        "        self.grid_size = grid_size\n",
        "        \n",
        "        # number of state\n",
        "        self.n_state = n_state\n",
        "\n",
        "        # Memory\n",
        "        self.memory = Memory(memory_size)\n",
        "        \n",
        "        # Batch size when learning\n",
        "        self.batch_size = batch_size\n",
        "\n",
        "    def learned_act(self, s):\n",
        "        return np.argmax(self.model.predict(s.reshape([1,5,5,self.n_state]))[0,:])\n",
        "\n",
        "    def reinforce(self, s_, n_s_, a_, r_, game_over_):\n",
        "        # Two steps: first memorize the states, second learn from the pool\n",
        "\n",
        "        self.memory.remember([s_, n_s_, a_, r_, game_over_])\n",
        "        \n",
        "        input_states = np.zeros((self.batch_size, 5, 5, self.n_state))\n",
        "        target_q = np.zeros((self.batch_size, 4))\n",
        "        \n",
        "        for i in range(self.batch_size):\n",
        "\n",
        "            s_, n_s_, a_, r_, game_over_  = self.memory.random_access()\n",
        "            \n",
        "            target_q[i, :] = self.model.predict(np.array([s_]))[0]\n",
        "            input_states[i] = s_\n",
        "            \n",
        "            if game_over_:\n",
        "                target_q[i,a_] = r_\n",
        "            else:\n",
        "                target_q[i,a_] = r_  + self.discount*np.max(self.model.predict(np.array([n_s_]))[0])\n",
        "                \n",
        "        target_q = np.clip(target_q, -3, 3)\n",
        "\n",
        "        l = self.model.train_on_batch(input_states, target_q)\n",
        "        \n",
        "        return l\n",
        "\n",
        "    def save(self,name_weights='model.h5',name_model='model.json'):\n",
        "        self.model.save_weights(name_weights, overwrite=True)\n",
        "        with open(name_model, \"w\") as outfile:\n",
        "            json.dump(self.model.to_json(), outfile)\n",
        "            \n",
        "    def load(self,name_weights='model.h5',name_model='model.json'):\n",
        "        with open(name_model, \"r\") as jfile:\n",
        "            model = model_from_json(json.load(jfile))\n",
        "        model.load_weights(name_weights)\n",
        "        model.compile(\"sgd\", \"mse\")\n",
        "        self.model = model\n",
        "\n",
        "            \n",
        "class DQN_FC(DQN):\n",
        "    def __init__(self, *args, lr=0.1,**kwargs):\n",
        "        super(DQN_FC, self).__init__( *args,**kwargs)\n",
        "        \n",
        "        # NN Model\n",
        "\n",
        "        model = Sequential()\n",
        "        model.add(Flatten(input_shape=(5,5,self.n_state)))\n",
        "        model.add(Dense(50, activation = 'relu'))\n",
        "        model.add(Dense(4))\n",
        "        model.compile(SGD(lr=lr, decay=1e-4, momentum=0.0), \"mse\")\n",
        "        self.model = model\n",
        "        "
      ],
      "execution_count": 0,
      "outputs": []
    },
    {
      "cell_type": "code",
      "metadata": {
        "id": "qcZOO4Z-bU6u",
        "colab_type": "code",
        "outputId": "06e9fdf1-816b-4087-bc60-1c453a982702",
        "colab": {
          "base_uri": "https://localhost:8080/",
          "height": 1000
        }
      },
      "source": [
        "epochs_train = 50\n",
        "env = Environment(grid_size=size, max_time=T, temperature=0.3)\n",
        "agent = DQN_FC(size, lr=.1, epsilon = 0.1, memory_size=2000, batch_size = 32)\n",
        "train(agent, env, epochs_train, prefix='fc_train')\n",
        "HTML(display_videos('fc_train45.mp4'))"
      ],
      "execution_count": 15,
      "outputs": [
        {
          "output_type": "stream",
          "text": [
            "Epoch 000/050 | Loss 0.0025 | Win/lose count 3.5/5.0 (-1.5)\n",
            "Epoch 001/050 | Loss 0.0084 | Win/lose count 3.0/2.0 (1.0)\n",
            "Epoch 002/050 | Loss 0.0007 | Win/lose count 4.0/7.0 (-3.0)\n",
            "Epoch 003/050 | Loss 0.0056 | Win/lose count 4.5/1.0 (3.5)\n",
            "Epoch 004/050 | Loss 0.0138 | Win/lose count 3.0/6.0 (-3.0)\n",
            "Epoch 005/050 | Loss 0.0571 | Win/lose count 6.0/7.0 (-1.0)\n",
            "Epoch 006/050 | Loss 0.0044 | Win/lose count 2.0/2.0 (0.0)\n",
            "Epoch 007/050 | Loss 0.0609 | Win/lose count 1.5/2.0 (-0.5)\n",
            "Epoch 008/050 | Loss 0.0046 | Win/lose count 4.5/6.0 (-1.5)\n",
            "Epoch 009/050 | Loss 0.0100 | Win/lose count 2.5/3.0 (-0.5)\n",
            "Epoch 010/050 | Loss 0.0061 | Win/lose count 4.0/1.0 (3.0)\n",
            "Epoch 011/050 | Loss 0.0043 | Win/lose count 2.5/0 (2.5)\n",
            "Epoch 012/050 | Loss 0.0068 | Win/lose count 5.5/4.0 (1.5)\n",
            "Epoch 013/050 | Loss 0.0039 | Win/lose count 5.0/3.0 (2.0)\n",
            "Epoch 014/050 | Loss 0.0024 | Win/lose count 3.0/2.0 (1.0)\n",
            "Epoch 015/050 | Loss 0.0020 | Win/lose count 1.0/0 (1.0)\n",
            "Epoch 016/050 | Loss 0.0664 | Win/lose count 2.0/3.0 (-1.0)\n",
            "Epoch 017/050 | Loss 0.0021 | Win/lose count 6.0/1.0 (5.0)\n",
            "Epoch 018/050 | Loss 0.0030 | Win/lose count 2.0/2.0 (0.0)\n",
            "Epoch 019/050 | Loss 0.0012 | Win/lose count 1.0/0 (1.0)\n",
            "Epoch 020/050 | Loss 0.0476 | Win/lose count 5.0/5.0 (0.0)\n",
            "Epoch 021/050 | Loss 0.0114 | Win/lose count 5.0/3.0 (2.0)\n",
            "Epoch 022/050 | Loss 0.0008 | Win/lose count 1.5/3.0 (-1.5)\n",
            "Epoch 023/050 | Loss 0.0038 | Win/lose count 5.0/2.0 (3.0)\n",
            "Epoch 024/050 | Loss 0.0017 | Win/lose count 3.0/1.0 (2.0)\n",
            "Epoch 025/050 | Loss 0.0015 | Win/lose count 6.5/6.0 (0.5)\n",
            "Epoch 026/050 | Loss 0.0034 | Win/lose count 2.0/3.0 (-1.0)\n",
            "Epoch 027/050 | Loss 0.0015 | Win/lose count 2.5/2.0 (0.5)\n",
            "Epoch 028/050 | Loss 0.0020 | Win/lose count 4.0/3.0 (1.0)\n",
            "Epoch 029/050 | Loss 0.0011 | Win/lose count 3.0/2.0 (1.0)\n",
            "Epoch 030/050 | Loss 0.0057 | Win/lose count 2.0/2.0 (0.0)\n",
            "Epoch 031/050 | Loss 0.0011 | Win/lose count 6.0/3.0 (3.0)\n",
            "Epoch 032/050 | Loss 0.0026 | Win/lose count 1.5/1.0 (0.5)\n",
            "Epoch 033/050 | Loss 0.0009 | Win/lose count 1.0/0 (1.0)\n",
            "Epoch 034/050 | Loss 0.0033 | Win/lose count 8.5/3.0 (5.5)\n",
            "Epoch 035/050 | Loss 0.0015 | Win/lose count 2.5/3.0 (-0.5)\n",
            "Epoch 036/050 | Loss 0.0604 | Win/lose count 6.0/3.0 (3.0)\n",
            "Epoch 037/050 | Loss 0.0603 | Win/lose count 3.5/3.0 (0.5)\n",
            "Epoch 038/050 | Loss 0.0009 | Win/lose count 6.0/2.0 (4.0)\n",
            "Epoch 039/050 | Loss 0.0041 | Win/lose count 4.0/0 (4.0)\n",
            "Epoch 040/050 | Loss 0.0392 | Win/lose count 4.5/3.0 (1.5)\n",
            "Epoch 041/050 | Loss 0.0022 | Win/lose count 6.0/0 (6.0)\n",
            "Epoch 042/050 | Loss 0.0013 | Win/lose count 4.0/4.0 (0.0)\n",
            "Epoch 043/050 | Loss 0.0013 | Win/lose count 2.0/1.0 (1.0)\n",
            "Epoch 044/050 | Loss 0.0014 | Win/lose count 2.5/5.0 (-2.5)\n",
            "Epoch 045/050 | Loss 0.0015 | Win/lose count 8.5/2.0 (6.5)\n",
            "Epoch 046/050 | Loss 0.0005 | Win/lose count 4.0/2.0 (2.0)\n",
            "Epoch 047/050 | Loss 0.0034 | Win/lose count 5.0/2.0 (3.0)\n",
            "Epoch 048/050 | Loss 0.0020 | Win/lose count 3.0/6.0 (-3.0)\n",
            "Epoch 049/050 | Loss 0.0023 | Win/lose count 6.0/4.0 (2.0)\n"
          ],
          "name": "stdout"
        },
        {
          "output_type": "execute_result",
          "data": {
            "text/html": [
              "<video alt=\"test\" controls>\n",
              "                <source src=\"data:video/mp4;base64,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\" type=\"video/mp4\" />\n",
              "             </video>"
            ],
            "text/plain": [
              "<IPython.core.display.HTML object>"
            ]
          },
          "metadata": {
            "tags": []
          },
          "execution_count": 15
        }
      ]
    },
    {
      "cell_type": "markdown",
      "metadata": {
        "id": "_KGEJiakbU6w",
        "colab_type": "text"
      },
      "source": [
        "***\n",
        "***\n",
        "__Question 8__ Implement the DQN training algorithm using a CNN (for example, 2 convolutional layers and one final fully connected layer)."
      ]
    },
    {
      "cell_type": "code",
      "metadata": {
        "id": "5Kltig_obU6x",
        "colab_type": "code",
        "colab": {}
      },
      "source": [
        "class DQN_CNN(DQN):\n",
        "    def __init__(self, *args,lr=0.1,**kwargs):\n",
        "        super(DQN_CNN, self).__init__(*args,**kwargs)\n",
        "        \n",
        "        model = Sequential()\n",
        "        model.add(Conv2D(50, 2))\n",
        "        model.add(Conv2D(30, 2))\n",
        "        model.add(Flatten())\n",
        "        model.add(Dense(4))\n",
        "        model.compile(SGD(lr=lr, decay=1e-4, momentum=0.0), \"mse\")\n",
        "        self.model = model"
      ],
      "execution_count": 0,
      "outputs": []
    },
    {
      "cell_type": "code",
      "metadata": {
        "id": "mNkOyM8jbU60",
        "colab_type": "code",
        "outputId": "daabad35-711f-4d09-f4d2-b991d6f7922e",
        "colab": {
          "base_uri": "https://localhost:8080/",
          "height": 1000
        }
      },
      "source": [
        "env = Environment(grid_size=size, max_time=T, temperature=0.3)\n",
        "agent = DQN_CNN(size, lr=.1, epsilon = 0.07, memory_size=2000, batch_size = 32)\n",
        "train(agent,env,epochs_train,prefix='cnn_train')\n",
        "HTML(display_videos('cnn_train45.mp4'))"
      ],
      "execution_count": 17,
      "outputs": [
        {
          "output_type": "stream",
          "text": [
            "Epoch 000/050 | Loss 0.0015 | Win/lose count 8.5/5.0 (3.5)\n",
            "Epoch 001/050 | Loss 0.0020 | Win/lose count 3.5/4.0 (-0.5)\n",
            "Epoch 002/050 | Loss 0.0466 | Win/lose count 2.5/6.0 (-3.5)\n",
            "Epoch 003/050 | Loss 0.0039 | Win/lose count 5.5/1.0 (4.5)\n",
            "Epoch 004/050 | Loss 0.0028 | Win/lose count 8.5/0 (8.5)\n",
            "Epoch 005/050 | Loss 0.0019 | Win/lose count 4.0/1.0 (3.0)\n",
            "Epoch 006/050 | Loss 0.0022 | Win/lose count 5.0/0 (5.0)\n",
            "Epoch 007/050 | Loss 0.0032 | Win/lose count 6.0/0 (6.0)\n",
            "Epoch 008/050 | Loss 0.0558 | Win/lose count 4.0/0 (4.0)\n",
            "Epoch 009/050 | Loss 0.0032 | Win/lose count 9.5/2.0 (7.5)\n",
            "Epoch 010/050 | Loss 0.0024 | Win/lose count 3.0/2.0 (1.0)\n",
            "Epoch 011/050 | Loss 0.0011 | Win/lose count 7.5/2.0 (5.5)\n",
            "Epoch 012/050 | Loss 0.0017 | Win/lose count 8.5/3.0 (5.5)\n",
            "Epoch 013/050 | Loss 0.0603 | Win/lose count 17.0/5.0 (12.0)\n",
            "Epoch 014/050 | Loss 0.0013 | Win/lose count 6.0/2.0 (4.0)\n",
            "Epoch 015/050 | Loss 0.0010 | Win/lose count 2.0/1.0 (1.0)\n",
            "Epoch 016/050 | Loss 0.0018 | Win/lose count 5.5/3.0 (2.5)\n",
            "Epoch 017/050 | Loss 0.0020 | Win/lose count 6.0/3.0 (3.0)\n",
            "Epoch 018/050 | Loss 0.0031 | Win/lose count 15.0/5.0 (10.0)\n",
            "Epoch 019/050 | Loss 0.0066 | Win/lose count 15.0/7.0 (8.0)\n",
            "Epoch 020/050 | Loss 0.0045 | Win/lose count 6.0/0 (6.0)\n",
            "Epoch 021/050 | Loss 0.0608 | Win/lose count 12.5/2.0 (10.5)\n",
            "Epoch 022/050 | Loss 0.0014 | Win/lose count 6.5/2.0 (4.5)\n",
            "Epoch 023/050 | Loss 0.0011 | Win/lose count 6.5/1.0 (5.5)\n",
            "Epoch 024/050 | Loss 0.0004 | Win/lose count 1.5/2.0 (-0.5)\n",
            "Epoch 025/050 | Loss 0.0013 | Win/lose count 4.0/1.0 (3.0)\n",
            "Epoch 026/050 | Loss 0.0012 | Win/lose count 11.0/4.0 (7.0)\n",
            "Epoch 027/050 | Loss 0.0009 | Win/lose count 12.0/2.0 (10.0)\n",
            "Epoch 028/050 | Loss 0.0015 | Win/lose count 12.0/3.0 (9.0)\n",
            "Epoch 029/050 | Loss 0.0008 | Win/lose count 3.0/2.0 (1.0)\n",
            "Epoch 030/050 | Loss 0.0025 | Win/lose count 7.0/3.0 (4.0)\n",
            "Epoch 031/050 | Loss 0.0016 | Win/lose count 10.5/2.0 (8.5)\n",
            "Epoch 032/050 | Loss 0.0542 | Win/lose count 13.0/4.0 (9.0)\n",
            "Epoch 033/050 | Loss 0.0022 | Win/lose count 12.5/1.0 (11.5)\n",
            "Epoch 034/050 | Loss 0.0028 | Win/lose count 5.5/3.0 (2.5)\n",
            "Epoch 035/050 | Loss 0.0018 | Win/lose count 13.0/4.0 (9.0)\n",
            "Epoch 036/050 | Loss 0.0010 | Win/lose count 6.5/1.0 (5.5)\n",
            "Epoch 037/050 | Loss 0.0009 | Win/lose count 6.0/0 (6.0)\n",
            "Epoch 038/050 | Loss 0.0016 | Win/lose count 11.5/6.0 (5.5)\n",
            "Epoch 039/050 | Loss 0.0588 | Win/lose count 1.5/3.0 (-1.5)\n",
            "Epoch 040/050 | Loss 0.0025 | Win/lose count 4.5/0 (4.5)\n",
            "Epoch 041/050 | Loss 0.0008 | Win/lose count 7.5/2.0 (5.5)\n",
            "Epoch 042/050 | Loss 0.0012 | Win/lose count 9.0/3.0 (6.0)\n",
            "Epoch 043/050 | Loss 0.0011 | Win/lose count 3.5/1.0 (2.5)\n",
            "Epoch 044/050 | Loss 0.0019 | Win/lose count 9.0/2.0 (7.0)\n",
            "Epoch 045/050 | Loss 0.0015 | Win/lose count 3.5/3.0 (0.5)\n",
            "Epoch 046/050 | Loss 0.0639 | Win/lose count 12.5/4.0 (8.5)\n",
            "Epoch 047/050 | Loss 0.0030 | Win/lose count 5.5/0 (5.5)\n",
            "Epoch 048/050 | Loss 0.0622 | Win/lose count 12.0/1.0 (11.0)\n",
            "Epoch 049/050 | Loss 0.0014 | Win/lose count 13.0/4.0 (9.0)\n"
          ],
          "name": "stdout"
        },
        {
          "output_type": "execute_result",
          "data": {
            "text/html": [
              "<video alt=\"test\" controls>\n",
              "                <source src=\"data:video/mp4;base64,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\" type=\"video/mp4\" />\n",
              "             </video>"
            ],
            "text/plain": [
              "<IPython.core.display.HTML object>"
            ]
          },
          "metadata": {
            "tags": []
          },
          "execution_count": 17
        }
      ]
    },
    {
      "cell_type": "markdown",
      "metadata": {
        "id": "Q8rqa9bibU62",
        "colab_type": "text"
      },
      "source": [
        "***\n",
        "***\n",
        "__Question 9__ Test both algorithms and compare their performances. Which issue(s) do you observe? Observe also different behaviors by changing the temperature."
      ]
    },
    {
      "cell_type": "code",
      "metadata": {
        "id": "7ckU-tGYbU63",
        "colab_type": "code",
        "colab": {
          "base_uri": "https://localhost:8080/",
          "height": 1000
        },
        "outputId": "82b94880-5916-4c80-d64c-57b925d7e600"
      },
      "source": [
        "temps = np.linspace(0.1,.9,9)\n",
        "epochs_test = 5\n",
        "scores_fc = []\n",
        "scores_cnn = []\n",
        "\n",
        "for temp in temps:\n",
        "  env = Environment(grid_size=size, max_time=T,temperature=0.3)\n",
        "  agent_cnn = DQN_CNN(size, lr=.1, epsilon = 0.1, memory_size=2000, batch_size = 32)\n",
        "  agent_cnn.load(name_weights='cnn_trainmodel.h5',name_model='cnn_trainmodel.json')\n",
        "\n",
        "  agent_fc = DQN_FC(size, lr=.1, epsilon = 0.1, memory_size=2000, batch_size = 32)\n",
        "  agent_cnn.load(name_weights='fc_trainmodel.h5',name_model='fc_trainmodel.json')\n",
        "  print('Test of the CNN')\n",
        "  score = test(agent_cnn,env,epochs_test,prefix='cnn_test')\n",
        "  scores_cnn.append(score)\n",
        "  print('Test of the FC')\n",
        "  score = test(agent_fc,env,epochs_test,prefix='fc_test')\n",
        "  scores_fc.append(score)"
      ],
      "execution_count": 18,
      "outputs": [
        {
          "output_type": "stream",
          "text": [
            "WARNING:tensorflow:From /usr/local/lib/python3.6/dist-packages/tensorflow_core/python/ops/init_ops.py:97: calling GlorotUniform.__init__ (from tensorflow.python.ops.init_ops) with dtype is deprecated and will be removed in a future version.\n",
            "Instructions for updating:\n",
            "Call initializer instance with the dtype argument instead of passing it to the constructor\n",
            "WARNING:tensorflow:From /usr/local/lib/python3.6/dist-packages/tensorflow_core/python/ops/init_ops.py:97: calling Zeros.__init__ (from tensorflow.python.ops.init_ops) with dtype is deprecated and will be removed in a future version.\n",
            "Instructions for updating:\n",
            "Call initializer instance with the dtype argument instead of passing it to the constructor\n",
            "Test of the CNN\n",
            "Win/lose count 5.0/3.0. Average score (2.0)\n",
            "Win/lose count 6.5/3.0. Average score (2.75)\n",
            "Win/lose count 4.0/2.0. Average score (2.5)\n",
            "Win/lose count 7.0/3.0. Average score (2.875)\n",
            "Win/lose count 1.5/2.0. Average score (2.2)\n",
            "Final score: 2.2\n",
            "Test of the FC\n",
            "Win/lose count 5.0/6.0. Average score (-1.0)\n",
            "Win/lose count 6.0/7.0. Average score (-1.0)\n",
            "Win/lose count 6.5/6.0. Average score (-0.5)\n",
            "Win/lose count 1.5/4.0. Average score (-1.0)\n",
            "Win/lose count 4.0/4.0. Average score (-0.8)\n",
            "Final score: -0.8\n",
            "Test of the CNN\n",
            "Win/lose count 5.0/2.0. Average score (3.0)\n",
            "Win/lose count 4.5/2.0. Average score (2.75)\n",
            "Win/lose count 3.0/1.0. Average score (2.5)\n",
            "Win/lose count 4.0/1.0. Average score (2.625)\n",
            "Win/lose count 2.0/4.0. Average score (1.7)\n",
            "Final score: 1.7\n",
            "Test of the FC\n",
            "Win/lose count 5.0/7.0. Average score (-2.0)\n",
            "Win/lose count 2.0/3.0. Average score (-1.5)\n",
            "Win/lose count 3.0/5.0. Average score (-1.6666666666666667)\n",
            "Win/lose count 5.0/3.0. Average score (-0.75)\n",
            "Win/lose count 2.0/5.0. Average score (-1.2)\n",
            "Final score: -1.2\n",
            "Test of the CNN\n",
            "Win/lose count 2.5/0.0. Average score (2.5)\n",
            "Win/lose count 6.0/1.0. Average score (3.75)\n",
            "Win/lose count 1.0/2.0. Average score (2.1666666666666665)\n",
            "Win/lose count 2.0/2.0. Average score (1.625)\n",
            "Win/lose count 9.5/1.0. Average score (3.0)\n",
            "Final score: 3.0\n",
            "Test of the FC\n",
            "Win/lose count 4.0/2.0. Average score (2.0)\n",
            "Win/lose count 2.5/6.0. Average score (-0.75)\n",
            "Win/lose count 3.0/2.0. Average score (-0.16666666666666666)\n",
            "Win/lose count 6.0/7.0. Average score (-0.375)\n",
            "Win/lose count 4.0/4.0. Average score (-0.3)\n",
            "Final score: -0.3\n",
            "Test of the CNN\n",
            "Win/lose count 7.5/2.0. Average score (5.5)\n",
            "Win/lose count 8.5/4.0. Average score (5.0)\n",
            "Win/lose count 4.5/3.0. Average score (3.8333333333333335)\n",
            "Win/lose count 4.0/1.0. Average score (3.625)\n",
            "Win/lose count 5.5/4.0. Average score (3.2)\n",
            "Final score: 3.2\n",
            "Test of the FC\n",
            "Win/lose count 6.0/7.0. Average score (-1.0)\n",
            "Win/lose count 7.5/10.0. Average score (-1.75)\n",
            "Win/lose count 3.5/4.0. Average score (-1.3333333333333333)\n",
            "Win/lose count 4.0/3.0. Average score (-0.75)\n",
            "Win/lose count 3.0/1.0. Average score (-0.2)\n",
            "Final score: -0.2\n",
            "Test of the CNN\n",
            "Win/lose count 2.5/2.0. Average score (0.5)\n",
            "Win/lose count 3.0/4.0. Average score (-0.25)\n",
            "Win/lose count 5.5/4.0. Average score (0.3333333333333333)\n",
            "Win/lose count 3.5/2.0. Average score (0.625)\n",
            "Win/lose count 1.5/3.0. Average score (0.2)\n",
            "Final score: 0.2\n",
            "Test of the FC\n",
            "Win/lose count 1.0/3.0. Average score (-2.0)\n",
            "Win/lose count 2.0/4.0. Average score (-2.0)\n",
            "Win/lose count 2.0/5.0. Average score (-2.3333333333333335)\n",
            "Win/lose count 3.5/8.0. Average score (-2.875)\n",
            "Win/lose count 5.0/2.0. Average score (-1.7)\n",
            "Final score: -1.7\n",
            "Test of the CNN\n",
            "Win/lose count 5.5/0.0. Average score (5.5)\n",
            "Win/lose count 6.5/3.0. Average score (4.5)\n",
            "Win/lose count 3.0/3.0. Average score (3.0)\n",
            "Win/lose count 2.0/0.0. Average score (2.75)\n",
            "Win/lose count 2.5/1.0. Average score (2.5)\n",
            "Final score: 2.5\n",
            "Test of the FC\n",
            "Win/lose count 4.0/2.0. Average score (2.0)\n",
            "Win/lose count 2.0/3.0. Average score (0.5)\n",
            "Win/lose count 4.0/7.0. Average score (-0.6666666666666666)\n",
            "Win/lose count 7.0/5.0. Average score (0.0)\n",
            "Win/lose count 1.0/5.0. Average score (-0.8)\n",
            "Final score: -0.8\n",
            "Test of the CNN\n",
            "Win/lose count 3.0/1.0. Average score (2.0)\n",
            "Win/lose count 3.0/2.0. Average score (1.5)\n",
            "Win/lose count 2.5/2.0. Average score (1.1666666666666667)\n",
            "Win/lose count 5.5/2.0. Average score (1.75)\n",
            "Win/lose count 4.5/2.0. Average score (1.9)\n",
            "Final score: 1.9\n",
            "Test of the FC\n",
            "Win/lose count 1.5/0.0. Average score (1.5)\n",
            "Win/lose count 2.5/8.0. Average score (-2.0)\n",
            "Win/lose count 3.0/4.0. Average score (-1.6666666666666667)\n",
            "Win/lose count 3.0/5.0. Average score (-1.75)\n",
            "Win/lose count 2.5/4.0. Average score (-1.7)\n",
            "Final score: -1.7\n",
            "Test of the CNN\n",
            "Win/lose count 7.0/2.0. Average score (5.0)\n",
            "Win/lose count 5.0/6.0. Average score (2.0)\n",
            "Win/lose count 0.5/4.0. Average score (0.16666666666666666)\n",
            "Win/lose count 0.5/0.0. Average score (0.25)\n",
            "Win/lose count 4.0/0.0. Average score (1.0)\n",
            "Final score: 1.0\n",
            "Test of the FC\n",
            "Win/lose count 2.5/6.0. Average score (-3.5)\n",
            "Win/lose count 4.5/4.0. Average score (-1.5)\n",
            "Win/lose count 5.0/7.0. Average score (-1.6666666666666667)\n",
            "Win/lose count 7.0/11.0. Average score (-2.25)\n",
            "Win/lose count 3.0/4.0. Average score (-2.0)\n",
            "Final score: -2.0\n",
            "Test of the CNN\n",
            "Win/lose count 6.0/9.0. Average score (-3.0)\n",
            "Win/lose count 3.5/2.0. Average score (-0.75)\n",
            "Win/lose count 3.0/4.0. Average score (-0.8333333333333334)\n",
            "Win/lose count 5.0/1.0. Average score (0.375)\n",
            "Win/lose count 1.0/2.0. Average score (0.1)\n",
            "Final score: 0.1\n",
            "Test of the FC\n",
            "Win/lose count 1.0/4.0. Average score (-3.0)\n",
            "Win/lose count 6.0/3.0. Average score (0.0)\n",
            "Win/lose count 3.0/6.0. Average score (-1.0)\n",
            "Win/lose count 4.5/4.0. Average score (-0.625)\n",
            "Win/lose count 5.0/2.0. Average score (0.1)\n",
            "Final score: 0.1\n"
          ],
          "name": "stdout"
        }
      ]
    },
    {
      "cell_type": "code",
      "metadata": {
        "id": "35m-1cEHduzf",
        "colab_type": "code",
        "colab": {
          "base_uri": "https://localhost:8080/",
          "height": 51
        },
        "outputId": "4af5c246-2353-4ccf-e005-bf0931884f63"
      },
      "source": [
        "print(scores_fc)\n",
        "print(scores_cnn)"
      ],
      "execution_count": 20,
      "outputs": [
        {
          "output_type": "stream",
          "text": [
            "[-0.8, -1.2, -0.3, -0.2, -1.7, -0.8, -1.7, -2.0, 0.1]\n",
            "[2.2, 1.7, 3.0, 3.2, 0.2, 2.5, 1.9, 1.0, 0.1]\n"
          ],
          "name": "stdout"
        }
      ]
    },
    {
      "cell_type": "code",
      "metadata": {
        "id": "YXyPwU7rbU66",
        "colab_type": "code",
        "colab": {
          "base_uri": "https://localhost:8080/",
          "height": 293
        },
        "outputId": "5b53c434-6118-4250-b396-96cc7e8e782e"
      },
      "source": [
        "HTML(display_videos('cnn_test3.mp4'))"
      ],
      "execution_count": 25,
      "outputs": [
        {
          "output_type": "execute_result",
          "data": {
            "text/html": [
              "<video alt=\"test\" controls>\n",
              "                <source src=\"data:video/mp4;base64,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\" type=\"video/mp4\" />\n",
              "             </video>"
            ],
            "text/plain": [
              "<IPython.core.display.HTML object>"
            ]
          },
          "metadata": {
            "tags": []
          },
          "execution_count": 25
        }
      ]
    },
    {
      "cell_type": "code",
      "metadata": {
        "id": "AtUtHiF0bU68",
        "colab_type": "code",
        "colab": {
          "base_uri": "https://localhost:8080/",
          "height": 293
        },
        "outputId": "53e5aa4f-b8c9-4f1d-8b1a-eb1df236d3cd"
      },
      "source": [
        "HTML(display_videos('fc_test4.mp4'))"
      ],
      "execution_count": 24,
      "outputs": [
        {
          "output_type": "execute_result",
          "data": {
            "text/html": [
              "<video alt=\"test\" controls>\n",
              "                <source src=\"data:video/mp4;base64,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\" type=\"video/mp4\" />\n",
              "             </video>"
            ],
            "text/plain": [
              "<IPython.core.display.HTML object>"
            ]
          },
          "metadata": {
            "tags": []
          },
          "execution_count": 24
        }
      ]
    },
    {
      "cell_type": "markdown",
      "metadata": {
        "id": "NGmpAsrebU6-",
        "colab_type": "text"
      },
      "source": [
        "| Temperature  | Average Score over 10 epochs for the FC model  | Average Score over 10 epochs for the CNN model  |\n",
        "|---|---|---|\n",
        "| 0.1  |  -0.8 | 2.2  |\n",
        "| 0.2  | -1.2  | 1.7  |\n",
        "| 0.3  | -0.3  | 3.0  |\n",
        "| 0.4  | -0.2  | 3.2  |\n",
        "| 0.5  | -1.7  | 0.2  |\n",
        "| 0.6  | -0.8  | 2.5  |\n",
        "| 0.7  | -1.7  | 1.9  |\n",
        "| 0.8  | -2.0  | 1.0  |\n",
        "| 0.9  | 0.1  | 0.1  |\n",
        "\n"
      ]
    },
    {
      "cell_type": "markdown",
      "metadata": {
        "id": "lU8aUyPDfqMI",
        "colab_type": "text"
      },
      "source": [
        "We notice that, on the whole the score from the CNN is better that the score from the FC network.\n",
        "\n"
      ]
    },
    {
      "cell_type": "markdown",
      "metadata": {
        "id": "8VP5Ck0DbU6_",
        "colab_type": "text"
      },
      "source": [
        "***\n",
        "\n",
        "The algorithm tends to not explore the map which can be an issue. We propose two ideas in order to encourage exploration:\n",
        "1. Incorporating a decreasing $\\epsilon$-greedy exploration. You can use the method ```set_epsilon```\n",
        "2. Append via the environment a new state that describes if a cell has been visited or not\n",
        "\n",
        "***\n",
        "__Question 10__ Design a new ```train_explore``` function and environment class ```EnvironmentExploring``` to tackle the issue of exploration.\n",
        "\n"
      ]
    },
    {
      "cell_type": "code",
      "metadata": {
        "id": "MXSLsMK7bU7A",
        "colab_type": "code",
        "colab": {}
      },
      "source": [
        "def train_explore(agent,env,epoch,prefix=''):\n",
        "    # Number of won games\n",
        "    score = 0\n",
        "    loss = 0\n",
        "    \n",
        "    \n",
        "    for e in range(epoch):\n",
        "\n",
        "        state = env.reset()\n",
        "        win = 0\n",
        "        lose = 0\n",
        "        \n",
        "        game_over = False\n",
        "        agent.set_epsilon(agent.epsilon*0.8)\n",
        "        while not game_over:\n",
        "        \n",
        "            action = agent.learned_act(state)\n",
        "            prev_s = state\n",
        "            \n",
        "            state, reward, game_over = env.act(action, train=True)\n",
        "\n",
        "            if reward>0:\n",
        "                win+=reward\n",
        "            else:\n",
        "                lose-=reward\n",
        "                \n",
        "            loss = agent.reinforce(prev_s, state,  action, reward, game_over)\n",
        "\n",
        "        env.draw(prefix+str(e))\n",
        "\n",
        "        score = score + win-lose\n",
        "\n",
        "        print(\"Win/lose count {}/{}. Average score ({})\"\n",
        "              .format(win, lose, score/(1+e)))\n",
        "    print('Final score: '+str(score/epoch))\n",
        "        \n",
        "class EnvironmentExploring(Environment):\n",
        "    def __init__(self, grid_size=10, max_time=500, temperature=0.1):\n",
        "        super(EnvironmentExploring, self).__init__()\n",
        "        \n",
        "        self.malus_position = np.zeros((grid_size, grid_size))\n",
        "\n",
        "    def act(self, action, train=False):\n",
        "\n",
        "        self.get_frame(int(self.t))\n",
        "\n",
        "        self.position = np.zeros((self.grid_size, self.grid_size))\n",
        "\n",
        "        self.position[0:2,:]= -1\n",
        "        self.position[:,0:2] = -1\n",
        "        self.position[-2:, :] = -1\n",
        "        self.position[-2:, :] = -1\n",
        "\n",
        "        self.position[self.x, self.y] = 1\n",
        "        if action == 0:\n",
        "            if self.x == self.grid_size-3:\n",
        "                self.x = self.x-1\n",
        "            else:\n",
        "                self.x = self.x + 1\n",
        "        elif action == 1:\n",
        "            if self.x == 2:\n",
        "                self.x = self.x+1\n",
        "            else:\n",
        "                self.x = self.x-1\n",
        "        elif action == 2:\n",
        "            if self.y == self.grid_size - 3:\n",
        "                self.y = self.y - 1\n",
        "            else:\n",
        "                self.y = self.y + 1\n",
        "        elif action == 3:\n",
        "            if self.y == 2:\n",
        "                self.y = self.y + 1\n",
        "            else:\n",
        "                self.y = self.y - 1\n",
        "        else:\n",
        "            RuntimeError('Error: action not recognized')\n",
        "\n",
        "        self.t = self.t + 1\n",
        "        reward = 0\n",
        "        if train:\n",
        "            reward = -self.malus_position[self.x, self.y]\n",
        "        self.malus_position[self.x, self.y] = 0.1\n",
        "\n",
        "        reward = reward + self.board[self.x, self.y]\n",
        "\n",
        "        self.board[self.x, self.y] = 0\n",
        "        game_over = self.t > self.max_time\n",
        "        \n",
        "        state = np.concatenate((self.malus_position.reshape(self.grid_size, self.grid_size,1),\n",
        "                                self.board.reshape(self.grid_size, self.grid_size,1),\n",
        "                        self.position.reshape(self.grid_size, self.grid_size,1)),axis=2)\n",
        "        \n",
        "        state = state[self.x-2:self.x+3,self.y-2:self.y+3,:]\n",
        "        return state, reward, game_over\n",
        "\n",
        "    \n",
        "    def reset(self):\n",
        "\n",
        "        self.x = np.random.randint(3, self.grid_size-3, size=1)[0]\n",
        "        self.y = np.random.randint(3, self.grid_size-3, size=1)[0]\n",
        "\n",
        "\n",
        "        bonus = 0.5*np.random.binomial(1,self.temperature,size=self.grid_size**2)\n",
        "        bonus = bonus.reshape(self.grid_size,self.grid_size)\n",
        "\n",
        "        malus = -1.0*np.random.binomial(1,self.temperature,size=self.grid_size**2)\n",
        "        malus = malus.reshape(self.grid_size, self.grid_size)\n",
        "\n",
        "        self.to_draw = np.zeros((self.max_time+2, self.grid_size*self.scale, self.grid_size*self.scale, 3))\n",
        "\n",
        "\n",
        "        malus[bonus>0]=0\n",
        "\n",
        "        self.board = bonus + malus\n",
        "\n",
        "        self.position = np.zeros((self.grid_size, self.grid_size))\n",
        "        self.position[0:2,:]= -1\n",
        "        self.position[:,0:2] = -1\n",
        "        self.position[-2:, :] = -1\n",
        "        self.position[:,-2:] = -1\n",
        "        self.board[self.x,self.y] = 0\n",
        "        self.t = 0\n",
        "\n",
        "        self.malus_position = np.zeros((self.grid_size, self.grid_size))\n",
        "\n",
        "        state = np.concatenate((self.malus_position.reshape(self.grid_size, self.grid_size,1),\n",
        "                                        self.board.reshape(self.grid_size, self.grid_size,1),\n",
        "                                self.position.reshape(self.grid_size, self.grid_size,1)),axis=2)\n",
        "\n",
        "        state = state[self.x - 2:self.x + 3, self.y - 2:self.y + 3, :]\n",
        "        return state"
      ],
      "execution_count": 0,
      "outputs": []
    },
    {
      "cell_type": "code",
      "metadata": {
        "id": "yDOBuw2lbU7D",
        "colab_type": "code",
        "colab": {
          "base_uri": "https://localhost:8080/",
          "height": 602
        },
        "outputId": "b78f1507-ed4d-4edd-8363-fff41366b4c6"
      },
      "source": [
        "# Training\n",
        "env = EnvironmentExploring(grid_size=size, max_time=T, temperature=0.3)\n",
        "agent = DQN_CNN(size, lr=.4, epsilon = 0.1, memory_size=2000, batch_size = 32,n_state=3)\n",
        "train_explore(agent, env, epoch=20, prefix='cnn_train_explore')\n",
        "HTML(display_videos('cnn_train_explore10.mp4'))"
      ],
      "execution_count": 34,
      "outputs": [
        {
          "output_type": "stream",
          "text": [
            "Win/lose count 3.0/50.60000000000041. Average score (-47.60000000000041)\n",
            "Win/lose count 1.0/49.60000000000045. Average score (-48.100000000000435)\n",
            "Win/lose count 7.0/43.200000000000344. Average score (-44.133333333333745)\n",
            "Win/lose count 4.5/42.70000000000034. Average score (-42.65000000000039)\n",
            "Win/lose count 3.0/47.700000000000394. Average score (-43.060000000000386)\n",
            "Win/lose count 1.5/46.60000000000039. Average score (-43.4000000000004)\n",
            "Win/lose count 2.5/47.100000000000385. Average score (-43.57142857142896)\n",
            "Win/lose count 0.5/49.20000000000043. Average score (-44.2125000000004)\n",
            "Win/lose count 3.0/46.40000000000039. Average score (-44.12222222222262)\n",
            "Win/lose count 1.0/48.900000000000425. Average score (-44.5000000000004)\n",
            "Win/lose count 2.5/46.00000000000037. Average score (-44.409090909091304)\n",
            "Win/lose count 3.5/47.0000000000004. Average score (-44.333333333333734)\n",
            "Win/lose count 5.5/45.00000000000037. Average score (-43.96153846153886)\n",
            "Win/lose count 2.0/47.600000000000406. Average score (-44.07857142857182)\n",
            "Win/lose count 5.5/43.600000000000335. Average score (-43.68000000000039)\n",
            "Win/lose count 4.0/48.70000000000042. Average score (-43.74375000000039)\n",
            "Win/lose count 2.0/47.1000000000004. Average score (-43.823529411765094)\n",
            "Win/lose count 1.5/48.40000000000042. Average score (-43.99444444444484)\n",
            "Win/lose count 2.5/47.90000000000041. Average score (-44.06842105263197)\n",
            "Win/lose count 4.0/45.90000000000038. Average score (-43.96000000000039)\n",
            "Final score: -43.96000000000039\n"
          ],
          "name": "stdout"
        },
        {
          "output_type": "execute_result",
          "data": {
            "text/html": [
              "<video alt=\"test\" controls>\n",
              "                <source src=\"data:video/mp4;base64,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\" type=\"video/mp4\" />\n",
              "             </video>"
            ],
            "text/plain": [
              "<IPython.core.display.HTML object>"
            ]
          },
          "metadata": {
            "tags": []
          },
          "execution_count": 34
        }
      ]
    },
    {
      "cell_type": "code",
      "metadata": {
        "id": "Q4wivTERbU7G",
        "colab_type": "code",
        "colab": {}
      },
      "source": [
        "# Evaluation\n",
        "test(agent,env,epochs_test,prefix='cnn_test_explore')"
      ],
      "execution_count": 0,
      "outputs": []
    },
    {
      "cell_type": "code",
      "metadata": {
        "id": "4AbTMcvgTPuJ",
        "colab_type": "code",
        "colab": {
          "base_uri": "https://localhost:8080/",
          "height": 245
        },
        "outputId": "4c1df208-1d52-4541-91db-fa3e6e8a5f9b"
      },
      "source": [
        "HTML(display_videos('cnn_test_explore4.mp4'))"
      ],
      "execution_count": 38,
      "outputs": [
        {
          "output_type": "execute_result",
          "data": {
            "text/html": [
              "<video alt=\"test\" controls>\n",
              "                <source src=\"data:video/mp4;base64,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\" type=\"video/mp4\" />\n",
              "             </video>"
            ],
            "text/plain": [
              "<IPython.core.display.HTML object>"
            ]
          },
          "metadata": {
            "tags": []
          },
          "execution_count": 38
        }
      ]
    },
    {
      "cell_type": "markdown",
      "metadata": {
        "id": "1nZkFRVKbU7I",
        "colab_type": "text"
      },
      "source": [
        "***\n",
        "***\n",
        "__BONUS question__ Use the expert DQN from the previous question to generate some winning games. Train a model that mimicks its behavior. Compare the performances."
      ]
    },
    {
      "cell_type": "markdown",
      "metadata": {
        "id": "MeAvtNCBbU7K",
        "colab_type": "text"
      },
      "source": [
        "***"
      ]
    }
  ]
}